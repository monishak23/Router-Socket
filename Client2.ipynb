{
 "cells": [
  {
   "cell_type": "code",
   "execution_count": null,
   "id": "7f09b06a",
   "metadata": {},
   "outputs": [
    {
     "name": "stdout",
     "output_type": "stream",
     "text": [
      "\n",
      "Packet integrity:\n",
      "destination MAC address matches client 2 MAC address: True\n",
      "\n",
      "destination IP address matches client 2 IP address: True\n",
      "\n",
      "The packed received:\n",
      " Source MAC address: 05:10:0A:CB:24:EF, Destination MAC address: 10:AF:CB:EF:19:CF\n",
      "\n",
      "Source IP address: 192.168.127.132, Destination IP address: 192.168.127.12\n",
      "\n",
      "Message: hiiiiiiiiiii\n"
     ]
    }
   ],
   "source": [
    "import socket\n",
    "import time\n",
    "client2_ip = \"192.168.127.12\"\n",
    "client2_mac = \"10:AF:CB:EF:19:CF\"\n",
    "router = (\"localhost\", 8200)\n",
    "client2 = socket.socket(socket.AF_INET, socket.SOCK_STREAM)\n",
    "time.sleep(1)\n",
    "client2.connect(router)\n",
    "while True:\n",
    "    received_message = client2.recv(1024)\n",
    "    received_message = received_message.decode(\"utf-8\")\n",
    "    source_mac = received_message[0:17]\n",
    "    destination_mac = received_message[17:34]\n",
    "    source_ip = received_message[34:49]\n",
    "    destination_ip =  received_message[49:63]\n",
    "    message = received_message[63:]\n",
    "    print(\"\\nPacket integrity:\\ndestination MAC address matches client 2 MAC address: {mac}\".format(mac=(client2_mac == destination_mac)))\n",
    "    print(\"\\ndestination IP address matches client 2 IP address: {mac}\".format(mac=(client2_ip == destination_ip)))\n",
    "    print(\"\\nThe packed received:\\n Source MAC address: {source_mac}, Destination MAC address: {destination_mac}\".format(source_mac=source_mac, destination_mac=destination_mac))\n",
    "    print(\"\\nSource IP address: {source_ip}, Destination IP address: {destination_ip}\".format(source_ip=source_ip, destination_ip=destination_ip))\n",
    "    print(\"\\nMessage: \" + message)"
   ]
  },
  {
   "cell_type": "code",
   "execution_count": null,
   "id": "55a6e180",
   "metadata": {},
   "outputs": [],
   "source": []
  }
 ],
 "metadata": {
  "kernelspec": {
   "display_name": "Python 3",
   "language": "python",
   "name": "python3"
  },
  "language_info": {
   "codemirror_mode": {
    "name": "ipython",
    "version": 3
   },
   "file_extension": ".py",
   "mimetype": "text/x-python",
   "name": "python",
   "nbconvert_exporter": "python",
   "pygments_lexer": "ipython3",
   "version": "3.8.8"
  }
 },
 "nbformat": 4,
 "nbformat_minor": 5
}
