{
 "cells": [
  {
   "cell_type": "code",
   "execution_count": null,
   "id": "d5a40097",
   "metadata": {},
   "outputs": [
    {
     "name": "stdout",
     "output_type": "stream",
     "text": [
      "Client 1 is online\n",
      "Client 2 is online\n",
      "Client 3 is online\n",
      "The packed received:\n",
      " Source MAC address: 00:00:0A:BB:28:FC, Destination MAC address: 05:10:0A:CB:24:EF\n",
      "\n",
      "Source IP address: 192.168.127.132, Destination IP address: 192.168.127.12\n",
      "\n",
      "Message: hiiiiiiiiiii\n"
     ]
    }
   ],
   "source": [
    "import socket\n",
    "import time\n",
    "\n",
    "router = socket.socket(socket.AF_INET, socket.SOCK_STREAM)\n",
    "router.bind((\"localhost\", 8100))\n",
    "\n",
    "router_send = socket.socket(socket.AF_INET, socket.SOCK_STREAM) \n",
    "router_send.bind((\"localhost\", 8200))\n",
    "\n",
    "router_mac = \"05:10:0A:CB:24:EF\"\n",
    "\n",
    "server = (\"localhost\", 8000)\n",
    "\n",
    "client1_ip = \"192.168.127.11\"\n",
    "client1_mac = \"32:04:0A:EF:19:CF\"\n",
    "client2_ip = \"192.168.127.12\"\n",
    "client2_mac = \"10:AF:CB:EF:19:CF\"\n",
    "client3_ip = \"92.10.10.25\"\n",
    "client3_mac = \"192.168.127.13\"\n",
    "router_send.listen(4)\n",
    "client1 = None\n",
    "client2 = None\n",
    "client3 = None\n",
    "while (client1 == None or client2 == None or client3 == None):\n",
    "    client, address = router_send.accept()\n",
    "    \n",
    "    if(client1 == None):\n",
    "        client1 = client\n",
    "        print(\"Client 1 is online\")\n",
    "    \n",
    "    elif(client2 == None):\n",
    "        client2 = client\n",
    "        print(\"Client 2 is online\")\n",
    "    else:\n",
    "        client3 = client\n",
    "        print(\"Client 3 is online\")\n",
    "arp_table_socket = {client1_ip : client1, client2_ip : client2, client3_ip : client3}\n",
    "arp_table_mac = {client1_ip : client1_mac, client2_ip : client2_mac, client3_ip : client3_mac}\n",
    "router.connect(server) \n",
    "while True:\n",
    "    received_message = router.recv(1024)\n",
    "    received_message =  received_message.decode(\"utf-8\")\n",
    "    \n",
    "    source_mac = received_message[0:17]\n",
    "    destination_mac = received_message[17:34]\n",
    "    source_ip = received_message[34:49]\n",
    "    destination_ip =  received_message[49:63]\n",
    "    message = received_message[63:]\n",
    "    \n",
    "    print(\"The packed received:\\n Source MAC address: {source_mac}, Destination MAC address: {destination_mac}\".format(source_mac=source_mac, destination_mac=destination_mac))\n",
    "    print(\"\\nSource IP address: {source_ip}, Destination IP address: {destination_ip}\".format(source_ip=source_ip, destination_ip=destination_ip))\n",
    "    print(\"\\nMessage: \" + message)\n",
    "    \n",
    "    \n",
    "    ethernet_header = router_mac + arp_table_mac[destination_ip]\n",
    "    IP_header = source_ip + destination_ip\n",
    "    packet = ethernet_header + IP_header + message\n",
    "    \n",
    "    destination_socket = arp_table_socket[destination_ip]\n",
    "    \n",
    "    destination_socket.send(bytes(packet, \"utf-8\"))\n",
    "    time.sleep(2)"
   ]
  },
  {
   "cell_type": "code",
   "execution_count": null,
   "id": "44f19af6",
   "metadata": {},
   "outputs": [],
   "source": []
  }
 ],
 "metadata": {
  "kernelspec": {
   "display_name": "Python 3",
   "language": "python",
   "name": "python3"
  },
  "language_info": {
   "codemirror_mode": {
    "name": "ipython",
    "version": 3
   },
   "file_extension": ".py",
   "mimetype": "text/x-python",
   "name": "python",
   "nbconvert_exporter": "python",
   "pygments_lexer": "ipython3",
   "version": "3.8.8"
  }
 },
 "nbformat": 4,
 "nbformat_minor": 5
}
