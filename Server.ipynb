{
 "cells": [
  {
   "cell_type": "code",
   "execution_count": null,
   "id": "5897ef17",
   "metadata": {},
   "outputs": [
    {
     "name": "stdout",
     "output_type": "stream",
     "text": [
      "<socket.socket fd=1096, family=AddressFamily.AF_INET, type=SocketKind.SOCK_STREAM, proto=0, laddr=('127.0.0.1', 8000), raddr=('127.0.0.1', 8100)>\n"
     ]
    }
   ],
   "source": [
    "import socket\n",
    "server = socket.socket(socket.AF_INET, socket.SOCK_STREAM)\n",
    "server.bind((\"localhost\", 8000))\n",
    "server.listen(2)\n",
    "server_ip = \"192.168.127.132\"\n",
    "server_mac = \"00:00:0A:BB:28:FC\"\n",
    "router_mac = \"05:10:0A:CB:24:EF\"\n",
    "while True:\n",
    "    routerConnection, address = server.accept()\n",
    "    if(routerConnection != None):\n",
    "        print(routerConnection)\n",
    "        break\n",
    "        \n",
    "while True:\n",
    "    ethernet_header = \"\"\n",
    "    IP_header = \"\"\n",
    "    message = input(\"\\nEnter the text message to send: \")\n",
    "    destination_ip = input(\"Enter the IP of the clients to send the message to:\\n1.192.168.127.11 \\n2. 192.168.127.12\\n3. 192.168.127.13\\n\")\n",
    "    if(destination_ip == \"192.168.127.11\" or destination_ip == \"192.168.127.12\" or destination_ip == \"192.168.127.13\"):\n",
    "        source_ip = server_ip\n",
    "        IP_header = IP_header + source_ip + destination_ip\n",
    "        \n",
    "        source_mac = server_mac\n",
    "        destination_mac = router_mac \n",
    "        ethernet_header = ethernet_header + source_mac + destination_mac\n",
    "        \n",
    "        packet = ethernet_header + IP_header + message\n",
    "        \n",
    "        routerConnection.send(bytes(packet, \"utf-8\"))  \n",
    "    else:\n",
    "        print(\"Wrong client IP inputted\")"
   ]
  },
  {
   "cell_type": "code",
   "execution_count": null,
   "id": "f0ed3c38",
   "metadata": {},
   "outputs": [],
   "source": []
  }
 ],
 "metadata": {
  "kernelspec": {
   "display_name": "Python 3",
   "language": "python",
   "name": "python3"
  },
  "language_info": {
   "codemirror_mode": {
    "name": "ipython",
    "version": 3
   },
   "file_extension": ".py",
   "mimetype": "text/x-python",
   "name": "python",
   "nbconvert_exporter": "python",
   "pygments_lexer": "ipython3",
   "version": "3.8.8"
  }
 },
 "nbformat": 4,
 "nbformat_minor": 5
}
