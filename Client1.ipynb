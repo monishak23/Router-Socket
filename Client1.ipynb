{
 "cells": [
  {
   "cell_type": "code",
   "execution_count": null,
   "id": "8ae2cdf8",
   "metadata": {},
   "outputs": [],
   "source": [
    "import socket\n",
    "import time \n",
    "client1_ip = \"192.168.127.11\"\n",
    "client1_mac = \"32:04:0A:EF:19:CF\"\n",
    "router = (\"localhost\", 8200)\n",
    "client1 = socket.socket(socket.AF_INET, socket.SOCK_STREAM)\n",
    "time.sleep(1)\n",
    "client1.connect(router)\n",
    "while True:\n",
    "    received_message = client1.recv(1024)\n",
    "    received_message = received_message.decode(\"utf-8\")\n",
    "    source_mac = received_message[0:17]\n",
    "    destination_mac = received_message[17:34]\n",
    "    source_ip = received_message[34:49]\n",
    "    destination_ip =  received_message[49:63]\n",
    "    message = received_message[63:]\n",
    "    print(\"\\nPacket integrity:\\ndestination MAC address matches client 1 MAC address: {mac}\".format(mac=(client1_mac == destination_mac)))\n",
    "    print(\"\\ndestination IP address matches client 1 IP address: {mac}\".format(mac=(client1_ip == destination_ip)))\n",
    "    print(\"\\nThe packed received:\\n Source MAC address: {source_mac}, Destination MAC address: {destination_mac}\".format(source_mac=source_mac, destination_mac=destination_mac))\n",
    " \n",
    "    print(\"\\nSource IP address: {source_ip}, Destination IP address: {destination_ip}\".format(source_ip=source_ip, destination_ip=destination_ip))\n",
    " \n",
    "    print(\"\\nMessage: \" + message)"
   ]
  },
  {
   "cell_type": "code",
   "execution_count": null,
   "id": "ee50adaa",
   "metadata": {},
   "outputs": [],
   "source": []
  }
 ],
 "metadata": {
  "kernelspec": {
   "display_name": "Python 3",
   "language": "python",
   "name": "python3"
  },
  "language_info": {
   "codemirror_mode": {
    "name": "ipython",
    "version": 3
   },
   "file_extension": ".py",
   "mimetype": "text/x-python",
   "name": "python",
   "nbconvert_exporter": "python",
   "pygments_lexer": "ipython3",
   "version": "3.8.8"
  }
 },
 "nbformat": 4,
 "nbformat_minor": 5
}
